{
 "cells": [
  {
   "cell_type": "code",
   "execution_count": 1,
   "metadata": {},
   "outputs": [
    {
     "name": "stderr",
     "output_type": "stream",
     "text": [
      "d:\\Program Files\\Anaconda3\\lib\\site-packages\\pandas\\core\\computation\\expressions.py:21: UserWarning: Pandas requires version '2.8.4' or newer of 'numexpr' (version '2.8.1' currently installed).\n",
      "  from pandas.core.computation.check import NUMEXPR_INSTALLED\n",
      "d:\\Program Files\\Anaconda3\\lib\\site-packages\\pandas\\core\\arrays\\masked.py:60: UserWarning: Pandas requires version '1.3.6' or newer of 'bottleneck' (version '1.3.4' currently installed).\n",
      "  from pandas.core import (\n"
     ]
    }
   ],
   "source": [
    "import time\n",
    "import pandas as pd\n",
    "from selenium.webdriver import Chrome, ChromeOptions  # 导入类库\n",
    "option = ChromeOptions()  # 初始化浏览器设置\n",
    "option.add_experimental_option(\"debuggerAddress\", \"127.0.0.1:9222\")  # 接管\n",
    "driver = Chrome(options=option)  # 模拟开浏览器"
   ]
  },
  {
   "cell_type": "code",
   "execution_count": 2,
   "metadata": {},
   "outputs": [
    {
     "data": {
      "text/plain": [
       "'Library Genesis'"
      ]
     },
     "execution_count": 2,
     "metadata": {},
     "output_type": "execute_result"
    }
   ],
   "source": [
    "driver.title"
   ]
  },
  {
   "cell_type": "code",
   "execution_count": 3,
   "metadata": {},
   "outputs": [],
   "source": [
    "filePath = \"D:\\Euclid_Jie\\AutoReferences\\副本文章初步梳理名单.csv\"\n",
    "df = pd.read_csv(filePath)"
   ]
  },
  {
   "cell_type": "code",
   "execution_count": 8,
   "metadata": {},
   "outputs": [
    {
     "data": {
      "text/html": [
       "<div>\n",
       "<style scoped>\n",
       "    .dataframe tbody tr th:only-of-type {\n",
       "        vertical-align: middle;\n",
       "    }\n",
       "\n",
       "    .dataframe tbody tr th {\n",
       "        vertical-align: top;\n",
       "    }\n",
       "\n",
       "    .dataframe thead th {\n",
       "        text-align: right;\n",
       "    }\n",
       "</style>\n",
       "<table border=\"1\" class=\"dataframe\">\n",
       "  <thead>\n",
       "    <tr style=\"text-align: right;\">\n",
       "      <th></th>\n",
       "      <th>Authors</th>\n",
       "      <th>Title</th>\n",
       "      <th>Source</th>\n",
       "      <th>DOI</th>\n",
       "      <th>Year</th>\n",
       "      <th>Abstract</th>\n",
       "    </tr>\n",
       "  </thead>\n",
       "  <tbody>\n",
       "    <tr>\n",
       "      <th>250</th>\n",
       "      <td>Andrei, Alina G.; Benischke, Mirko H.; Martin,...</td>\n",
       "      <td>Behavioral agency and the efficacy of analysts...</td>\n",
       "      <td>STRATEGIC MANAGEMENT JOURNAL</td>\n",
       "      <td>10.1002/smj.3548</td>\n",
       "      <td>2024</td>\n",
       "      <td>We integrate behavioral agency research and th...</td>\n",
       "    </tr>\n",
       "  </tbody>\n",
       "</table>\n",
       "</div>"
      ],
      "text/plain": [
       "                                               Authors  \\\n",
       "250  Andrei, Alina G.; Benischke, Mirko H.; Martin,...   \n",
       "\n",
       "                                                 Title  \\\n",
       "250  Behavioral agency and the efficacy of analysts...   \n",
       "\n",
       "                           Source               DOI  Year  \\\n",
       "250  STRATEGIC MANAGEMENT JOURNAL  10.1002/smj.3548  2024   \n",
       "\n",
       "                                              Abstract  \n",
       "250  We integrate behavioral agency research and th...  "
      ]
     },
     "execution_count": 8,
     "metadata": {},
     "output_type": "execute_result"
    }
   ],
   "source": [
    "df[df[\"Title\"]==\"Behavioral agency and the efficacy of analysts as external monitors: Examining the moderating role of CEO personality\"]"
   ]
  },
  {
   "cell_type": "code",
   "execution_count": 9,
   "metadata": {},
   "outputs": [
    {
     "data": {
      "text/html": [
       "<div>\n",
       "<style scoped>\n",
       "    .dataframe tbody tr th:only-of-type {\n",
       "        vertical-align: middle;\n",
       "    }\n",
       "\n",
       "    .dataframe tbody tr th {\n",
       "        vertical-align: top;\n",
       "    }\n",
       "\n",
       "    .dataframe thead th {\n",
       "        text-align: right;\n",
       "    }\n",
       "</style>\n",
       "<table border=\"1\" class=\"dataframe\">\n",
       "  <thead>\n",
       "    <tr style=\"text-align: right;\">\n",
       "      <th></th>\n",
       "      <th>Authors</th>\n",
       "      <th>Title</th>\n",
       "      <th>Source</th>\n",
       "      <th>DOI</th>\n",
       "      <th>Year</th>\n",
       "      <th>Abstract</th>\n",
       "    </tr>\n",
       "  </thead>\n",
       "  <tbody>\n",
       "    <tr>\n",
       "      <th>250</th>\n",
       "      <td>Andrei, Alina G.; Benischke, Mirko H.; Martin,...</td>\n",
       "      <td>Behavioral agency and the efficacy of analysts...</td>\n",
       "      <td>STRATEGIC MANAGEMENT JOURNAL</td>\n",
       "      <td>10.1002/smj.3548</td>\n",
       "      <td>2024</td>\n",
       "      <td>We integrate behavioral agency research and th...</td>\n",
       "    </tr>\n",
       "  </tbody>\n",
       "</table>\n",
       "</div>"
      ],
      "text/plain": [
       "                                               Authors  \\\n",
       "250  Andrei, Alina G.; Benischke, Mirko H.; Martin,...   \n",
       "\n",
       "                                                 Title  \\\n",
       "250  Behavioral agency and the efficacy of analysts...   \n",
       "\n",
       "                           Source               DOI  Year  \\\n",
       "250  STRATEGIC MANAGEMENT JOURNAL  10.1002/smj.3548  2024   \n",
       "\n",
       "                                              Abstract  \n",
       "250  We integrate behavioral agency research and th...  "
      ]
     },
     "execution_count": 9,
     "metadata": {},
     "output_type": "execute_result"
    }
   ],
   "source": [
    "df.iloc[250:]"
   ]
  },
  {
   "cell_type": "code",
   "execution_count": 7,
   "metadata": {},
   "outputs": [
    {
     "name": "stdout",
     "output_type": "stream",
     "text": [
      "Down with CEO Hubris and Firm Performance: Exploring the Moderating Roles of CEO Power and Board Vigilance\n",
      "Down with THE SHACKLES OF CEO CELEBRITY: SOCIOCOGNITIVE AND BEHAVIORAL ROLE CONSTRAINTS ON STAR LEADERS\n",
      "Down with The differential effects of CEO narcissism and hubris on corporate social responsibility\n",
      "Down with Do Humble CEOs Matter? An Examination of CEO Humility and Firm Outcomes\n",
      "Down with Follow the leader (or not): The influence of peer CEOs' characteristics on interorganizational imitation\n",
      "Down with Ethical Leadership Perceptions: Does It Matter If You're Black or White?\n",
      "Down with ONE STEP FORWARD, ONE STEP BACK: WHITE MALE TOP MANAGER ORGANIZATIONAL IDENTIFICATION AND HELPING BEHAVIOR TOWARD OTHER EXECUTIVES FOLLOWING THE APPOINTMENT OF A FEMALE OR RACIAL MINORITY CEO\n",
      "Down with GENDER-INCLUSIVE GATEKEEPING: HOW (MOSTLY MALE) PREDECESSORS INFLUENCE THE SUCCESS OF FEMALE CEOS\n",
      "Down with EVENHANDEDNESS IN RESOURCE ALLOCATION: ITS RELATIONSHIP WITH CEO IDEOLOGY, ORGANIZATIONAL DISCRETION, AND FIRM PERFORMANCE\n",
      "Down with Hubris and Unethical Decision Making: The Tragedy of the Uncommon\n",
      "Down with CEO Wrongdoing: A Review of Pressure, Opportunity, and Rationalization\n",
      "Down with CEO career horizon, corporate governance, and real options: The role of economic short-termism\n",
      "Down with Doing Good Business by Hiring Directors with Foreign Experience\n",
      "Down with See You in Court: How CEO narcissism increases firms' vulnerability to lawsuits\n",
      "Down with Do Women CEOs Face Greater Threat of Shareholder Activism Compared to Male CEOs? A Role Congruity Perspective\n",
      "Down with Do women leaders promote positive change? Analyzing the effect of gender on business practices and diversity initiatives\n",
      "Down with CEO gender differences in careers and the moderating role of country culture: A meta-analytic investigation\n",
      "Down with CEO Ability and Corporate Social Responsibility\n",
      "Down with Jack of all, master of all? CEO generalist experience and firm performance\n",
      "Down with CEO Risk-Taking and Socioemotional Wealth: The Behavioral Agency Model, Family Control, and CEO Option Wealth\n",
      "Down with BORN TO TAKE RISK? THE EFFECT OF CEO BIRTH ORDER ON STRATEGIC RISK TAKING\n",
      "Down with The case for humble expectations: CEO humility and market performance\n",
      "Down with Machine learning approaches to facial and text analysis: Discovering CEO oral communication styles\n",
      "Down with Hear Me Write: Does CEO Narcissism Affect Disclosure?\n",
      "Down with Second-order effects of CEO characteristics: How rivals' perceptions of CEOs as submissive and provocative precipitate competitive attacks\n",
      "Down with Power, Status and Expectations: How Narcissism Manifests Among Women CEOs\n",
      "Down with RESPONDING TO BAD PRESS: HOW CEO TEMPORAL FOCUS INFLUENCES THE SENSITIVITY TO NEGATIVE MEDIA COVERAGE OF ACQUISITIONS\n",
      "Down with Expanding the concept of fit in strategic human resource management: An examination of the relationship between human resource practices and charismatic leadership on organizational outcomes\n",
      "Down with CEO Narcissism, Risk-Taking, and Resilience: An Empirical Analysis in US Commercial Banks\n",
      "Down with Dispositional Sources of Managerial Discretion: CEO Ideology, CEO Personality, and Firm Strategies\n",
      "Down with The Co-evolution of Leaders' Cognitive Complexity and Corporate Sustainability: The Case of the CEO of Puma\n",
      "Down with Measuring CEO personality: Developing, validating, and testing a linguistic tool\n",
      "Down with Walking the Talk on Diversity: CEO Beliefs, Moral Values, and the Implementation of Workplace Diversity Practices\n",
      "Down with CEO Advice Seeking: An Integrative Framework and Future Research Agenda\n",
      "Down with Effects of an Advancing Tenure on CEO Cognitive Complexity\n",
      "Down with Serving differently: CEO regulatory focus and firm stakeholder strategy\n",
      "Down with CEO cognitive flexibility, information search, and organizational ambidexterity\n",
      "Down with To Be or Not to Be Sorry? How CEO Gender Impacts the Effectiveness of Organizational Apologies\n",
      "Down with Linguistic Markers of CEO Hubris\n",
      "Down with CEO Hubris and Firm Pollution: State and Market Contingencies in a Transitional Economy\n",
      "Down with CEO Bright and Dark Personality: Effects on Ethical Misconduct\n",
      "Down with A BLESSING AND A CURSE: HOW CEOS' TRAIT EMPATHY AFFECTS THEIR MANAGEMENT OF ORGANIZATIONAL CRISES\n",
      "Down with The Roles of Chinese CEOs in Managing Individualistic Cultures in Cross-border Mergers and Acquisitions\n",
      "Down with PERCEPTION IS REALITY: HOW CEOS' OBSERVED PERSONALITY INFLUENCES MARKET PERCEPTIONS OF FIRM RISK AND SHAREHOLDER RETURNS\n",
      "Down with The Deliberate Engagement of Narcissistic CEOs in Earnings Management\n",
      "Down with Pay for beauty? A contingent perspective ofCEOfacial attractiveness onCEOcompensation\n",
      "Down with THE GENERATIVITY MINDSETS OF CHIEF EXECUTIVE OFFICERS: A NEW PERSPECTIVE ON SUCCESSION OUTCOMES\n",
      "Down with CEO SOCIOPOLITICAL ACTIVISM: A STAKEHOLDER ALIGNMENT MODEL\n",
      "Down with CEO early-life disaster experience and corporate social performance\n",
      "Down with Echoes of CEO Entrepreneurial Orientation: How and When CEO Entrepreneurial Orientation Influences Dual CSR Activities\n",
      "Down with The Morality of new CEO Activism\n",
      "Down with Gender Gymnastics in CEO succession: Masculinities, Femininities and Legitimacy\n",
      "Down with CSR and Family CEO: The Moderating Role of CEO's Age\n",
      "Down with Are they worth it? Warmth and competence perceptions influence the investment of slack resources in and the efficacy of HPWS\n",
      "Down with The Curse of Extremes: Generalist Career Experience and CEO Initial Compensation\n",
      "Down with When CEOs Are All About Themselves: Perceived CEO Narcissism and Middle Managers' Workplace Behaviors Amid the COVID-19 Pandemic\n",
      "Down with Generalist versus specialist CEOs and acquisitions: Two-sided matching and the impact of CEO characteristics on firm outcomes\n",
      "Down with Being extraordinary: How CEOS' uncommon names explain strategic distinctiveness\n",
      "Down with Are firms with foreign CEOs better citizens? A study of the impact of CEO foreignness on corporate social performance\n",
      "Down with The role of procedural rationality in debiasing acquisition decisions of overconfident CEOs\n",
      "Down with UNPACKING POLITICAL IDEOLOGY: CEO SOCIAL AND ECONOMIC IDEOLOGIES, STRATEGIC DECISION-MAKING PROCESSES, AND CORPORATE ENTREPRENEURSHIP\n",
      "Down with CEO Greed, Corporate Social Responsibility, and Organizational Resilience to Systemic Shocks\n",
      "Down with The perks of narcissism: Behaving like a star speeds up career advancement to the CEO position\n",
      "Down with Caring for Their Own: How Firm Actions to Protect Essential Workers and CEO Benevolence Influenced Stakeholder Sentiment During the COVID-19 Pandemic\n",
      "Down with Female CEOs and the Compensation of Other Top Managers\n",
      "Down with PUMPING THE BRAKES: EXAMINING THE IMPACT OF CEO POLITICAL IDEOLOGY DIVERGENCE ON FIRM RESPONSES\n",
      "Down with It's Not What You Say, But How You Sound: CEO Vocal Masculinity and the Board's Early-Stage CEO Compensation Decisions\n",
      "Down with Linking CEO Entrepreneurial Orientation to Firm Performance: The Perspective of Middle Managers' Cognition\n",
      "Down with Locality Stereotype, CEO Trustworthiness and Stock Price Crash Risk: Evidence from China\n",
      "Down with A juggling act: CEO polychronicity and firm innovation\n",
      "Down with How Do Employees React When Their CEO Speaks Out? Intra- and Extra-Firm Implications of CEO Sociopolitical Activism\n",
      "Down with CEO proactiveness, innovation, and firm performance\n",
      "Down with The role of CEO emotional stability and team heterogeneity in shaping the top management team affective tone and firm performance relationship\n",
      "Down with Sharing Strategic Decisions: CEO Humility, TMT Decentralization, and Ethical Culture\n",
      "Down with Bargaining your way to success: The effect of Machiavellian chief executive officers on firm costs\n",
      "Down with A blessing and a curse: How chief executive officer cognitive complexity influences firm performance under varying industry conditions\n",
      "Down with Do Generalist CEOs Magnify Boardroom Backscratching?\n",
      "Down with CEO Self-Monitoring and Corporate Entrepreneurship: A Moderated Mediation Model of the CEO-TMT Interface\n",
      "Down with The CEO beauty premium: Founder CEO attractiveness and firm valuation in initial coin offerings\n",
      "Down with CEOs' Poverty Experience and Corporate Social Responsibility: Are CEOs Who Have Experienced Poverty More Generous?\n",
      "Down with Do the Right Thing: The Imprinting of Deonance at the Upper Echelons\n",
      "Down with Leveraging green HRM for firm performance: The joint effects of CEO environmental belief and external pollution severity and the mediating role of employee environmental commitment\n",
      "Down with A Configurational Exploration of How Female and Male CEOs Influence Their Compensation\n",
      "Down with The military imprint: The effect of executives' military experience on firm pollution and environmental innovation\n",
      "Down with Taking chances? The effect of CEO risk propensity on firms' risky internationalization decisions\n",
      "Down with No-Fly Zone in the Loan Office: How Chief Executive Officers' Risky Hobbies Affect Credit Stakeholders' Evaluation of Firms\n",
      "Down with Does CEO emotion matter? CEO affectivity and corporate social responsibility\n",
      "Down with CEO Activism and Firm Value\n",
      "Down with The Fire to Inspire: A Multilevel and Multimethod Investigation of How and When CEO Passion for Organizational Development Impacts Employee Creativity\n",
      "Down with When Not One of the Crowd: The Effects of CEO Ideological Divergence on Lobbying Strategy\n",
      "Down with Precarious situations: A prelude to hiring more hubristic chief executive officers\n",
      "Down with CEO Foreign Experience and Green Innovation: Evidence from China\n",
      "Down with Nothing Ventured, Nothing Gained: A Meta-Analysis of CEO Overconfidence, Strategic Risk Taking, and Performance\n",
      "Down with CEO's Childhood Experience of Natural Disaster and CSR Activities\n",
      "Down with Cashing in on the culture wars? CEO activism, wokewashing, and firm value\n",
      "Down with CEO ethical leadership as a unique source of substantive and rhetorical ethical signals for attracting job seekers: The moderating role of job seekers' moral identity\n",
      "Down with CEO health\n",
      "Down with Does CEO Risk-Aversion Affect Carbon Emission?\n",
      "Down with CEO childhood trauma, social networks, and strategic risk taking\n",
      "Down with To Change or Not to Change? Evidence on the Steadiness of More Hubristic CEOs\n",
      "Down with Ethnic minority CEO turnover: Resource-based and leadership categorization perspectives\n",
      "Down with Shifting perspectives: How scrutiny shapes the relationship between CEO gender and acquisition activity\n",
      "Down with Impact of CEO' Digital Technology Orientation and Board Characteristics on Firm Value: A Signaling Perspective\n",
      "Down with Going global? CEO political ideology and the choice between international alliances and international acquisitions\n",
      "Down with The face of wrongdoing? An expectancy violations perspective on CEO facial characteristics and media coverage of misconducting firms\n",
      "Down with The private life of CEOs; A strategic leadership perspective\n",
      "Down with Right Dance Wrong Partner: CEO Overconfidence and Organizational Knowledge Characteristics in Alliance Partner Selection\n",
      "Down with Are narcissistic CEOs good or bad for family firm innovation?\n",
      "Down with Presumed Patriarchy: How a CEO's Masculine Appearance Affects Perceptions of Sexual Harassment in Organizations\n",
      "Down with CEO Sociopolitical Activism as a Signal of Authentic Leadership to Prospective Employees\n",
      "Down with Birds of a feather?: Firm sales growth and narcissism in the upper echelons at the CEO-TMT interface\n",
      "Down with I Did It My Way: CEO Core Self-Evaluations and the Environmental Contingencies on Firm Risk-Taking Strategies\n",
      "Down with How Does CEO Decision Style Influence Firm Performance? The Mediating Role of Speed and Innovativeness in New Product Development\n",
      "Down with Taking Charge as a Contextual Cue: How New CEO Regulatory Focus Influences Strategic Change\n",
      "Down with CEO's Hometown Identity and Corporate Social Responsibility\n",
      "Down with Market Reaction to CEOs' Dynamic Hemifacial Asymmetry of Expressions\n",
      "Down with The effects of CEO activism: Partisan consumer behavior and its duration\n",
      "Down with Back to School: CEOs' Pre-Career Exposure to Religion, Firm's Risk-Taking, and Innovation\n",
      "Down with Individualistic CEO and corporate innovation: Evidence from US frontier culture*\n",
      "Down with Delving Into Feminine Stereotypes: Female CEOs and the Corporate Social (Ir)Responsibility-Firm Performance Relationship\n",
      "Down with CEO political liberalism, stakeholders, and firms' support for LGBT employees\n",
      "Down with Problem Solving or Responsibility Avoidance? The Role of CEO Internal Attribution Tendency in Shaping Corporate Downsizing in Response to Performance Shortfalls\n",
      "Down with Innovation effects of academic executives: Evidence from China\n",
      "Down with Do the personal attributes of CEOs matter in the IPO pricing process? An examination of charisma and humility\n",
      "Down with Overconfident CEOs in Dire Straits: How Incumbent and Successor CEOs' Overconfidence Affects Firm Turnaround Performance\n",
      "Down with Is Red or Blue More Likely to Narrow the Gap? The Effect of CEO Political Ideology on CEO-Employee Pay Disparity\n",
      "Down with Narcissism at the CEO-TMT Interface: Measuring Executive Narcissism and Testing Its Effects on TMT Composition\n",
      "Down with 'Brazil must be a country for entrepreneurs and workers, not scoundrels': Personal branding mechanisms underpinning CEO activism\n",
      "Down with When Is CEO Activism Conducive to the Democratic Process?\n",
      "Down with Competitive Actions under Analyst Pressure: The Role of CEO Time Horizons\n",
      "Down with Why Do Some Conservative CEOs Publicly Support Liberal Causes? Organizational Ideology, Managerial Discretion, and CEO Sociopolitical Activism\n",
      "Down with CEO Religion and Corporate Social Responsibility: A Socio-behavioral Model\n",
      "Down with CEO Narcissism and Credit Ratings\n",
      "Down with CEO entrepreneurial orientation, human resource management systems, and employee innovative behavior: An attention-based view\n",
      "Down with Setting the tone to get their way: An attention-based approach to how narcissistic CEOs influence the board of directors to take more risk\n",
      "Down with The Impact of CEOs' Personal Traits on Organisational Performance: Evidence from Faith-Based Charity Organisations\n",
      "Down with Machine Learning for Predicting Corporate Violations: How Do CEO Characteristics Matter?\n",
      "Down with Collider bias in strategy and management research: An illustration using women CEO's effect on other women's career outcomes\n",
      "Down with Not Like the Rest of Us? How CEO Celebrity Affects Quarterly Earnings Call Language\n",
      "Down with Behavioral agency and the efficacy of analysts as external monitors: Examining the moderating role of CEO personality\n"
     ]
    }
   ],
   "source": [
    "for index, row in df.iloc[111:].iterrows():\n",
    "    if isinstance(row[\"DOI\"], str):\n",
    "        DOI = row[\"DOI\"]\n",
    "        Url = \"https://libgen.rocks/ads.php?doi=\" + DOI\n",
    "        driver.get(Url)\n",
    "        print(\"Down with {}\".format(row[\"Title\"]))\n",
    "        time.sleep(1)\n",
    "    else:\n",
    "        pdf_name = row[\"Title\"]\n",
    "        print(\"无法下载: {}\".format(pdf_name))\n"
   ]
  }
 ],
 "metadata": {
  "kernelspec": {
   "display_name": "base",
   "language": "python",
   "name": "python3"
  },
  "language_info": {
   "codemirror_mode": {
    "name": "ipython",
    "version": 3
   },
   "file_extension": ".py",
   "mimetype": "text/x-python",
   "name": "python",
   "nbconvert_exporter": "python",
   "pygments_lexer": "ipython3",
   "version": "3.9.12"
  }
 },
 "nbformat": 4,
 "nbformat_minor": 2
}
